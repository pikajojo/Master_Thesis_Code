{
 "cells": [
  {
   "cell_type": "code",
   "execution_count": 2,
   "id": "54a47b42-e7d3-46fe-bf21-bced053af656",
   "metadata": {},
   "outputs": [
    {
     "name": "stdout",
     "output_type": "stream",
     "text": [
      "Collecting xesmf\n",
      "  Obtaining dependency information for xesmf from https://files.pythonhosted.org/packages/ce/c6/e0ecd645ee8a47fd58d15929d7760fefb45b3399c3c228670aa05349b5d8/xesmf-0.8.8-py3-none-any.whl.metadata\n",
      "  Downloading xesmf-0.8.8-py3-none-any.whl.metadata (3.9 kB)\n",
      "Collecting cf-xarray>=0.5.1 (from xesmf)\n",
      "  Obtaining dependency information for cf-xarray>=0.5.1 from https://files.pythonhosted.org/packages/1b/2c/7ba6a2a7ad421075ec3bd33ff4b5067763816687d2da95ea0751eee9621f/cf_xarray-0.10.0-py3-none-any.whl.metadata\n",
      "  Downloading cf_xarray-0.10.0-py3-none-any.whl.metadata (16 kB)\n",
      "Collecting numba>=0.55.2 (from xesmf)\n",
      "  Obtaining dependency information for numba>=0.55.2 from https://files.pythonhosted.org/packages/9a/51/a4dc2c01ce7a850b8e56ff6d5381d047a5daea83d12bad08aa071d34b2ee/numba-0.60.0-cp311-cp311-macosx_11_0_arm64.whl.metadata\n",
      "  Downloading numba-0.60.0-cp311-cp311-macosx_11_0_arm64.whl.metadata (2.7 kB)\n",
      "Requirement already satisfied: numpy>=1.16 in ./venv/lib/python3.11/site-packages (from xesmf) (2.1.1)\n",
      "Collecting shapely (from xesmf)\n",
      "  Obtaining dependency information for shapely from https://files.pythonhosted.org/packages/37/63/e182e43081fffa0a2d970c480f2ef91647a6ab94098f61748c23c2a485f2/shapely-2.0.6-cp311-cp311-macosx_11_0_arm64.whl.metadata\n",
      "  Downloading shapely-2.0.6-cp311-cp311-macosx_11_0_arm64.whl.metadata (7.0 kB)\n",
      "Collecting sparse>=0.8.0 (from xesmf)\n",
      "  Obtaining dependency information for sparse>=0.8.0 from https://files.pythonhosted.org/packages/4f/37/fcb96b950a972dac48e0fc9e3c528130ca8d8d1e0f09e727df3c6342c7c8/sparse-0.15.5-py2.py3-none-any.whl.metadata\n",
      "  Downloading sparse-0.15.5-py2.py3-none-any.whl.metadata (4.4 kB)\n",
      "Requirement already satisfied: xarray>=0.16.2 in ./venv/lib/python3.11/site-packages (from xesmf) (2024.9.0)\n",
      "Collecting llvmlite<0.44,>=0.43.0dev0 (from numba>=0.55.2->xesmf)\n",
      "  Obtaining dependency information for llvmlite<0.44,>=0.43.0dev0 from https://files.pythonhosted.org/packages/ee/e1/38deed89ced4cf378c61e232265cfe933ccde56ae83c901aa68b477d14b1/llvmlite-0.43.0-cp311-cp311-macosx_11_0_arm64.whl.metadata\n",
      "  Downloading llvmlite-0.43.0-cp311-cp311-macosx_11_0_arm64.whl.metadata (4.8 kB)\n",
      "Collecting numpy>=1.16 (from xesmf)\n",
      "  Obtaining dependency information for numpy>=1.16 from https://files.pythonhosted.org/packages/4a/d9/32de45561811a4b87fbdee23b5797394e3d1504b4a7cf40c10199848893e/numpy-2.0.2-cp311-cp311-macosx_11_0_arm64.whl.metadata\n",
      "  Downloading numpy-2.0.2-cp311-cp311-macosx_11_0_arm64.whl.metadata (60 kB)\n",
      "\u001b[2K     \u001b[90m━━━━━━━━━━━━━━━━━━━━━━━━━━━━━━━━━━━━━━━━\u001b[0m \u001b[32m60.9/60.9 kB\u001b[0m \u001b[31m1.8 MB/s\u001b[0m eta \u001b[36m0:00:00\u001b[0m\n",
      "\u001b[?25hRequirement already satisfied: scipy>=0.19 in ./venv/lib/python3.11/site-packages (from sparse>=0.8.0->xesmf) (1.14.1)\n",
      "Requirement already satisfied: packaging>=23.1 in ./venv/lib/python3.11/site-packages (from xarray>=0.16.2->xesmf) (24.1)\n",
      "Requirement already satisfied: pandas>=2.1 in ./venv/lib/python3.11/site-packages (from xarray>=0.16.2->xesmf) (2.2.3)\n",
      "Requirement already satisfied: python-dateutil>=2.8.2 in ./venv/lib/python3.11/site-packages (from pandas>=2.1->xarray>=0.16.2->xesmf) (2.9.0.post0)\n",
      "Requirement already satisfied: pytz>=2020.1 in ./venv/lib/python3.11/site-packages (from pandas>=2.1->xarray>=0.16.2->xesmf) (2024.2)\n",
      "Requirement already satisfied: tzdata>=2022.7 in ./venv/lib/python3.11/site-packages (from pandas>=2.1->xarray>=0.16.2->xesmf) (2024.2)\n",
      "Requirement already satisfied: six>=1.5 in ./venv/lib/python3.11/site-packages (from python-dateutil>=2.8.2->pandas>=2.1->xarray>=0.16.2->xesmf) (1.16.0)\n",
      "Downloading xesmf-0.8.8-py3-none-any.whl (46 kB)\n",
      "\u001b[2K   \u001b[90m━━━━━━━━━━━━━━━━━━━━━━━━━━━━━━━━━━━━━━━━\u001b[0m \u001b[32m46.8/46.8 kB\u001b[0m \u001b[31m4.0 MB/s\u001b[0m eta \u001b[36m0:00:00\u001b[0m\n",
      "\u001b[?25hDownloading cf_xarray-0.10.0-py3-none-any.whl (69 kB)\n",
      "\u001b[2K   \u001b[90m━━━━━━━━━━━━━━━━━━━━━━━━━━━━━━━━━━━━━━━━\u001b[0m \u001b[32m69.8/69.8 kB\u001b[0m \u001b[31m5.0 MB/s\u001b[0m eta \u001b[36m0:00:00\u001b[0m\n",
      "\u001b[?25hDownloading numba-0.60.0-cp311-cp311-macosx_11_0_arm64.whl (2.6 MB)\n",
      "\u001b[2K   \u001b[90m━━━━━━━━━━━━━━━━━━━━━━━━━━━━━━━━━━━━━━━━\u001b[0m \u001b[32m2.6/2.6 MB\u001b[0m \u001b[31m19.2 MB/s\u001b[0m eta \u001b[36m0:00:00\u001b[0ma \u001b[36m0:00:01\u001b[0m\n",
      "\u001b[?25hDownloading numpy-2.0.2-cp311-cp311-macosx_11_0_arm64.whl (13.7 MB)\n",
      "\u001b[2K   \u001b[90m━━━━━━━━━━━━━━━━━━━━━━━━━━━━━━━━━━━━━━━━\u001b[0m \u001b[32m13.7/13.7 MB\u001b[0m \u001b[31m16.0 MB/s\u001b[0m eta \u001b[36m0:00:00\u001b[0m00:01\u001b[0m00:01\u001b[0m\n",
      "\u001b[?25hDownloading sparse-0.15.5-py2.py3-none-any.whl (117 kB)\n",
      "\u001b[2K   \u001b[90m━━━━━━━━━━━━━━━━━━━━━━━━━━━━━━━━━━━━━━━━\u001b[0m \u001b[32m117.4/117.4 kB\u001b[0m \u001b[31m12.3 MB/s\u001b[0m eta \u001b[36m0:00:00\u001b[0m\n",
      "\u001b[?25hDownloading shapely-2.0.6-cp311-cp311-macosx_11_0_arm64.whl (1.3 MB)\n",
      "\u001b[2K   \u001b[90m━━━━━━━━━━━━━━━━━━━━━━━━━━━━━━━━━━━━━━━━\u001b[0m \u001b[32m1.3/1.3 MB\u001b[0m \u001b[31m32.8 MB/s\u001b[0m eta \u001b[36m0:00:00\u001b[0m00:01\u001b[0m\n",
      "\u001b[?25hDownloading llvmlite-0.43.0-cp311-cp311-macosx_11_0_arm64.whl (28.8 MB)\n",
      "\u001b[2K   \u001b[90m━━━━━━━━━━━━━━━━━━━━━━━━━━━━━━━━━━━━━━━━\u001b[0m \u001b[32m28.8/28.8 MB\u001b[0m \u001b[31m28.4 MB/s\u001b[0m eta \u001b[36m0:00:00\u001b[0m00:01\u001b[0m00:01\u001b[0m\n",
      "\u001b[?25hInstalling collected packages: numpy, llvmlite, shapely, numba, sparse, cf-xarray, xesmf\n",
      "  Attempting uninstall: numpy\n",
      "    Found existing installation: numpy 2.1.1\n",
      "    Uninstalling numpy-2.1.1:\n",
      "      Successfully uninstalled numpy-2.1.1\n",
      "Successfully installed cf-xarray-0.10.0 llvmlite-0.43.0 numba-0.60.0 numpy-2.0.2 shapely-2.0.6 sparse-0.15.5 xesmf-0.8.8\n",
      "\n",
      "\u001b[1m[\u001b[0m\u001b[34;49mnotice\u001b[0m\u001b[1;39;49m]\u001b[0m\u001b[39;49m A new release of pip is available: \u001b[0m\u001b[31;49m23.2.1\u001b[0m\u001b[39;49m -> \u001b[0m\u001b[32;49m24.3.1\u001b[0m\n",
      "\u001b[1m[\u001b[0m\u001b[34;49mnotice\u001b[0m\u001b[1;39;49m]\u001b[0m\u001b[39;49m To update, run: \u001b[0m\u001b[32;49m/Users/wangy/Documents/MACS/Thesis/thesis_code/thesis_featurevisual/venv/bin/python -m pip install --upgrade pip\u001b[0m\n",
      "Note: you may need to restart the kernel to use updated packages.\n"
     ]
    }
   ],
   "source": [
    "pip install xesmf"
   ]
  },
  {
   "cell_type": "code",
   "execution_count": 1,
   "id": "9eb33567-9c92-4b97-a2bc-30f097d0afdd",
   "metadata": {},
   "outputs": [
    {
     "name": "stdout",
     "output_type": "stream",
     "text": [
      "Collecting git+https://github.com/esmf-org/esmf.git\n",
      "  Cloning https://github.com/esmf-org/esmf.git to /private/var/folders/bv/rfp6znxd6qqbmjm5bhtmkw4m0000gn/T/pip-req-build-35jew099\n",
      "  Running command git clone --filter=blob:none --quiet https://github.com/esmf-org/esmf.git /private/var/folders/bv/rfp6znxd6qqbmjm5bhtmkw4m0000gn/T/pip-req-build-35jew099\n",
      "  Resolved https://github.com/esmf-org/esmf.git to commit 84b8fec34e85a3265c163cd09c54927eac1b32ef\n",
      "\u001b[31mERROR: git+https://github.com/esmf-org/esmf.git does not appear to be a Python project: neither 'setup.py' nor 'pyproject.toml' found.\u001b[0m\u001b[31m\n",
      "\u001b[0m\n",
      "\u001b[1m[\u001b[0m\u001b[34;49mnotice\u001b[0m\u001b[1;39;49m]\u001b[0m\u001b[39;49m A new release of pip is available: \u001b[0m\u001b[31;49m23.2.1\u001b[0m\u001b[39;49m -> \u001b[0m\u001b[32;49m24.3.1\u001b[0m\n",
      "\u001b[1m[\u001b[0m\u001b[34;49mnotice\u001b[0m\u001b[1;39;49m]\u001b[0m\u001b[39;49m To update, run: \u001b[0m\u001b[32;49m/Users/wangy/Documents/MACS/Thesis/thesis_code/thesis_featurevisual/venv/bin/python -m pip install --upgrade pip\u001b[0m\n",
      "Note: you may need to restart the kernel to use updated packages.\n"
     ]
    }
   ],
   "source": [
    "pip install git+https://github.com/esmf-org/esmf.git\n"
   ]
  },
  {
   "cell_type": "code",
   "execution_count": 2,
   "id": "547aabf0-0d3c-43ef-9fc8-c912cafcf628",
   "metadata": {
    "ExecuteTime": {
     "end_time": "2025-01-16T09:44:08.369062Z",
     "start_time": "2025-01-16T09:44:06.615158Z"
    }
   },
   "outputs": [
    {
     "ename": "ModuleNotFoundError",
     "evalue": "No module named 'ESMF'",
     "output_type": "error",
     "traceback": [
      "\u001b[0;31m---------------------------------------------------------------------------\u001b[0m",
      "\u001b[0;31mModuleNotFoundError\u001b[0m                       Traceback (most recent call last)",
      "File \u001b[0;32m~/Documents/MACS/Thesis/thesis_code/thesis_featurevisual/venv/lib/python3.11/site-packages/xesmf/util.py:8\u001b[0m\n\u001b[1;32m      7\u001b[0m \u001b[38;5;28;01mtry\u001b[39;00m:\n\u001b[0;32m----> 8\u001b[0m     \u001b[38;5;28;01mimport\u001b[39;00m \u001b[38;5;21;01mesmpy\u001b[39;00m \u001b[38;5;28;01mas\u001b[39;00m \u001b[38;5;21;01mESMF\u001b[39;00m\n\u001b[1;32m      9\u001b[0m \u001b[38;5;28;01mexcept\u001b[39;00m \u001b[38;5;167;01mImportError\u001b[39;00m:\n",
      "\u001b[0;31mModuleNotFoundError\u001b[0m: No module named 'esmpy'",
      "\nDuring handling of the above exception, another exception occurred:\n",
      "\u001b[0;31mModuleNotFoundError\u001b[0m                       Traceback (most recent call last)",
      "Cell \u001b[0;32mIn[2], line 5\u001b[0m\n\u001b[1;32m      3\u001b[0m \u001b[38;5;66;03m#import sklearn\u001b[39;00m\n\u001b[1;32m      4\u001b[0m \u001b[38;5;28;01mimport\u001b[39;00m \u001b[38;5;21;01mxarray\u001b[39;00m \u001b[38;5;28;01mas\u001b[39;00m \u001b[38;5;21;01mxr\u001b[39;00m\n\u001b[0;32m----> 5\u001b[0m \u001b[38;5;28;01mimport\u001b[39;00m \u001b[38;5;21;01mxesmf\u001b[39;00m \u001b[38;5;28;01mas\u001b[39;00m \u001b[38;5;21;01mxe\u001b[39;00m\n",
      "File \u001b[0;32m~/Documents/MACS/Thesis/thesis_code/thesis_featurevisual/venv/lib/python3.11/site-packages/xesmf/__init__.py:3\u001b[0m\n\u001b[1;32m      1\u001b[0m \u001b[38;5;66;03m# flake8: noqa\u001b[39;00m\n\u001b[0;32m----> 3\u001b[0m \u001b[38;5;28;01mfrom\u001b[39;00m \u001b[38;5;21;01m.\u001b[39;00m \u001b[38;5;28;01mimport\u001b[39;00m data, util\n\u001b[1;32m      4\u001b[0m \u001b[38;5;28;01mfrom\u001b[39;00m \u001b[38;5;21;01m.\u001b[39;00m\u001b[38;5;21;01mfrontend\u001b[39;00m \u001b[38;5;28;01mimport\u001b[39;00m Regridder, SpatialAverager\n\u001b[1;32m      6\u001b[0m \u001b[38;5;28;01mtry\u001b[39;00m:\n",
      "File \u001b[0;32m~/Documents/MACS/Thesis/thesis_code/thesis_featurevisual/venv/lib/python3.11/site-packages/xesmf/util.py:10\u001b[0m\n\u001b[1;32m      8\u001b[0m     \u001b[38;5;28;01mimport\u001b[39;00m \u001b[38;5;21;01mesmpy\u001b[39;00m \u001b[38;5;28;01mas\u001b[39;00m \u001b[38;5;21;01mESMF\u001b[39;00m\n\u001b[1;32m      9\u001b[0m \u001b[38;5;28;01mexcept\u001b[39;00m \u001b[38;5;167;01mImportError\u001b[39;00m:\n\u001b[0;32m---> 10\u001b[0m     \u001b[38;5;28;01mimport\u001b[39;00m \u001b[38;5;21;01mESMF\u001b[39;00m\n\u001b[1;32m     12\u001b[0m LON_CF_ATTRS \u001b[38;5;241m=\u001b[39m {\u001b[38;5;124m'\u001b[39m\u001b[38;5;124mstandard_name\u001b[39m\u001b[38;5;124m'\u001b[39m: \u001b[38;5;124m'\u001b[39m\u001b[38;5;124mlongitude\u001b[39m\u001b[38;5;124m'\u001b[39m, \u001b[38;5;124m'\u001b[39m\u001b[38;5;124munits\u001b[39m\u001b[38;5;124m'\u001b[39m: \u001b[38;5;124m'\u001b[39m\u001b[38;5;124mdegrees_east\u001b[39m\u001b[38;5;124m'\u001b[39m}\n\u001b[1;32m     13\u001b[0m LAT_CF_ATTRS \u001b[38;5;241m=\u001b[39m {\u001b[38;5;124m'\u001b[39m\u001b[38;5;124mstandard_name\u001b[39m\u001b[38;5;124m'\u001b[39m: \u001b[38;5;124m'\u001b[39m\u001b[38;5;124mlatitude\u001b[39m\u001b[38;5;124m'\u001b[39m, \u001b[38;5;124m'\u001b[39m\u001b[38;5;124munits\u001b[39m\u001b[38;5;124m'\u001b[39m: \u001b[38;5;124m'\u001b[39m\u001b[38;5;124mdegrees_north\u001b[39m\u001b[38;5;124m'\u001b[39m}\n",
      "\u001b[0;31mModuleNotFoundError\u001b[0m: No module named 'ESMF'"
     ]
    }
   ],
   "source": [
    "import matplotlib as plt\n",
    "import pandas as pd\n",
    "#import sklearn\n",
    "import ESMF\n",
    "import xarray as xr\n",
    "import xesmf as xe"
   ]
  },
  {
   "cell_type": "code",
   "execution_count": 1,
   "id": "732af0c4-1d80-4b97-a30f-a08a9ce58e42",
   "metadata": {},
   "outputs": [
    {
     "name": "stdout",
     "output_type": "stream",
     "text": [
      "Name: netCDF4\n",
      "Version: 1.6.4\n",
      "Summary: Provides an object-oriented python interface to the netCDF version 4 library\n",
      "Home-page: \n",
      "Author: \n",
      "Author-email: Jeff Whitaker <jeffrey.s.whitaker@noaa.gov>\n",
      "License: MIT\n",
      "Location: /apps/brussel/RL8/zen4/software/netcdf4-python/1.6.4-foss-2023a/lib/python3.11/site-packages\n",
      "Requires: certifi, cftime, numpy\n",
      "Required-by: \n"
     ]
    }
   ],
   "source": [
    "!pip show netCDF4"
   ]
  },
  {
   "cell_type": "code",
   "execution_count": null,
   "id": "fe10893b-75f8-410a-add7-ed4a18ced37f",
   "metadata": {},
   "outputs": [],
   "source": [
    "import os\n",
    "\n",
    "def list_files_and_folders_in_directory(path=None):\n",
    "    \"\"\"\n",
    "    List all files and folders in the specified directory.\n",
    "    If no path is provided, it lists files and folders in the current working directory.\n",
    "    \"\"\"\n",
    "    # Use the provided path or default to the current working directory\n",
    "    directory = path if path else os.getcwd()\n",
    "    \n",
    "    try:\n",
    "        # Get all items in the directory\n",
    "        items = os.listdir(directory)\n",
    "        \n",
    "        print(f\"\\nDirectory: {directory}\\n\")\n",
    "        \n",
    "        # Separate files and folders\n",
    "        files = [f for f in items if os.path.isfile(os.path.join(directory, f))]\n",
    "        folders = [f for f in items if os.path.isdir(os.path.join(directory, f))]\n",
    "        \n",
    "        # Print folders\n",
    "        if folders:\n",
    "            print(\"Folders:\")\n",
    "            for folder in folders:\n",
    "                print(f\"  📁 {folder}\")\n",
    "        else:\n",
    "            print(\"No folders found.\")\n",
    "\n",
    "        # Print files\n",
    "        if files:\n",
    "            print(\"\\nFiles:\")\n",
    "            for file in files:\n",
    "                print(f\"  📄 {file}\")\n",
    "        else:\n",
    "            print(\"No files found.\")\n",
    "            \n",
    "    except FileNotFoundError:\n",
    "        print(f\"Error: The directory '{directory}' does not exist.\")\n",
    "    except PermissionError:\n",
    "        print(f\"Error: Permission denied to access '{directory}'.\")\n",
    "    except Exception as e:\n",
    "        print(f\"An unexpected error occurred: {e}\")\n",
    "\n",
    "# Example usage\n",
    "list_files_and_folders_in_directory(\"/vscmnt/brussel_pixiu_data/_data_brussel/vo/000/bvo00029/UrbClim_Emulator/Urbclim_data/Urbclim_non_projected\")\n"
   ]
  },
  {
   "cell_type": "code",
   "execution_count": 28,
   "id": "9bb40f8d-a268-4f23-9ef1-0666f3f57e1d",
   "metadata": {},
   "outputs": [],
   "source": [
    "ds = xr.open_dataset('/vscmnt/brussel_pixiu_data/_data_brussel/vo/000/bvo00029/UrbClim_Emulator/Features/Meteo/ERA_altitude/geopot_Brussels_UrbClim_2015_01_v1.0.nc',engine = 'netcdf4')"
   ]
  },
  {
   "cell_type": "code",
   "execution_count": 29,
   "id": "6f2b13c7-ab8d-4e76-8b48-095f710fd484",
   "metadata": {},
   "outputs": [
    {
     "data": {
      "image/png": "[encoded data removed]",
      "text/plain": [
       "<Figure size 640x480 with 2 Axes>"
      ]
     },
     "metadata": {},
     "output_type": "display_data"
    },
    {
     "name": "stdout",
     "output_type": "stream",
     "text": [
      "<xarray.Dataset>\n",
      "Dimensions:      (y: 253, x: 399)\n",
      "Coordinates:\n",
      "    spatial_ref  int64 ...\n",
      "  * y            (y) float64 50.99 50.99 50.99 50.98 ... 50.7 50.7 50.7 50.7\n",
      "  * x            (x) float64 4.143 4.144 4.145 4.146 ... 4.597 4.598 4.599 4.6\n",
      "Data variables:\n",
      "    z            (y, x) float32 ...\n"
     ]
    }
   ],
   "source": [
    "import matplotlib.pyplot as plt\n",
    "%matplotlib inline\n",
    "# Plot the z variable as a 2D map\n",
    "ds['z'].plot(cmap='viridis')\n",
    "\n",
    "# Add a title\n",
    "plt.title('Geopotential Height (z)')\n",
    "plt.show()\n",
    "\n",
    "geo_df = ds\n",
    "\n",
    "\n",
    "print(geo_df)"
   ]
  },
  {
   "cell_type": "code",
   "execution_count": 17,
   "id": "dc379b16-ab9c-491a-b339-4b6f33930491",
   "metadata": {},
   "outputs": [
    {
     "name": "stdout",
     "output_type": "stream",
     "text": [
      "<xarray.DataArray 'x' (x: 399)>\n",
      "array([ True,  True,  True,  True,  True,  True,  True,  True,  True,\n",
      "        True,  True,  True,  True,  True,  True,  True,  True,  True,\n",
      "        True,  True,  True,  True,  True,  True,  True,  True,  True,\n",
      "        True,  True,  True,  True,  True,  True,  True,  True,  True,\n",
      "        True,  True,  True,  True,  True,  True,  True,  True,  True,\n",
      "        True,  True,  True,  True,  True,  True,  True,  True,  True,\n",
      "        True,  True,  True,  True,  True,  True,  True,  True,  True,\n",
      "        True,  True,  True,  True,  True,  True,  True,  True,  True,\n",
      "        True,  True,  True,  True,  True,  True,  True,  True,  True,\n",
      "        True,  True,  True,  True,  True,  True,  True,  True,  True,\n",
      "        True,  True,  True,  True,  True,  True,  True,  True,  True,\n",
      "        True,  True,  True,  True,  True,  True,  True,  True,  True,\n",
      "        True,  True,  True,  True,  True,  True,  True,  True,  True,\n",
      "        True,  True,  True,  True,  True,  True,  True,  True,  True,\n",
      "        True,  True,  True,  True,  True,  True,  True,  True,  True,\n",
      "        True,  True,  True,  True,  True,  True,  True,  True,  True,\n",
      "        True,  True,  True,  True,  True,  True,  True,  True,  True,\n",
      "        True,  True,  True,  True,  True,  True,  True,  True,  True,\n",
      "        True,  True,  True,  True,  True,  True,  True,  True,  True,\n",
      "        True,  True,  True,  True,  True,  True,  True,  True,  True,\n",
      "...\n",
      "        True,  True,  True,  True,  True,  True,  True,  True,  True,\n",
      "        True,  True,  True,  True,  True,  True,  True,  True,  True,\n",
      "        True,  True,  True,  True,  True,  True,  True,  True,  True,\n",
      "        True,  True,  True,  True,  True,  True,  True,  True,  True,\n",
      "        True,  True,  True,  True,  True,  True,  True,  True,  True,\n",
      "        True,  True,  True,  True,  True,  True,  True,  True,  True,\n",
      "        True,  True,  True,  True,  True,  True,  True,  True,  True,\n",
      "        True,  True,  True,  True,  True,  True,  True,  True,  True,\n",
      "        True,  True,  True,  True,  True,  True,  True,  True,  True,\n",
      "        True,  True,  True,  True,  True,  True,  True,  True,  True,\n",
      "        True,  True,  True,  True,  True,  True,  True,  True,  True,\n",
      "        True,  True,  True,  True,  True,  True,  True,  True,  True,\n",
      "        True,  True,  True,  True,  True,  True,  True,  True,  True,\n",
      "        True,  True,  True,  True,  True,  True,  True,  True,  True,\n",
      "        True,  True,  True,  True,  True,  True,  True,  True,  True,\n",
      "        True,  True,  True,  True,  True,  True,  True,  True,  True,\n",
      "        True,  True,  True,  True,  True,  True,  True,  True,  True,\n",
      "        True,  True,  True,  True,  True,  True,  True,  True,  True,\n",
      "        True,  True,  True,  True,  True,  True,  True,  True,  True,\n",
      "        True,  True, False])\n",
      "Coordinates:\n",
      "    spatial_ref  int64 0\n",
      "  * x            (x) float64 4.143 4.144 4.145 4.146 ... 4.597 4.598 4.599 4.6 <xarray.DataArray 'y' (y: 253)>\n",
      "array([ True,  True,  True,  True,  True,  True,  True,  True,  True,\n",
      "        True,  True,  True,  True,  True,  True,  True,  True,  True,\n",
      "        True,  True,  True,  True,  True,  True,  True,  True,  True,\n",
      "        True,  True,  True,  True,  True,  True,  True,  True,  True,\n",
      "        True,  True,  True,  True,  True,  True,  True,  True,  True,\n",
      "        True,  True,  True,  True,  True,  True,  True,  True,  True,\n",
      "        True,  True,  True,  True,  True,  True,  True,  True,  True,\n",
      "        True,  True,  True,  True,  True,  True,  True,  True,  True,\n",
      "        True,  True,  True,  True,  True,  True,  True,  True,  True,\n",
      "        True,  True,  True,  True,  True,  True,  True,  True,  True,\n",
      "        True,  True,  True,  True,  True,  True,  True,  True,  True,\n",
      "        True,  True,  True,  True,  True,  True,  True,  True,  True,\n",
      "        True,  True,  True,  True,  True,  True,  True,  True,  True,\n",
      "        True,  True,  True,  True,  True,  True,  True,  True,  True,\n",
      "        True,  True,  True,  True,  True,  True,  True,  True,  True,\n",
      "        True,  True,  True,  True,  True,  True,  True,  True,  True,\n",
      "        True,  True,  True,  True,  True,  True,  True,  True,  True,\n",
      "        True,  True,  True,  True,  True,  True,  True,  True,  True,\n",
      "        True,  True,  True,  True,  True,  True,  True,  True,  True,\n",
      "        True,  True,  True,  True,  True,  True,  True,  True,  True,\n",
      "        True,  True,  True,  True,  True,  True,  True,  True,  True,\n",
      "        True,  True,  True,  True,  True,  True,  True,  True,  True,\n",
      "        True,  True,  True,  True,  True,  True,  True,  True,  True,\n",
      "        True,  True,  True,  True,  True,  True,  True,  True,  True,\n",
      "        True,  True,  True,  True,  True,  True,  True,  True,  True,\n",
      "        True,  True,  True,  True,  True,  True,  True,  True,  True,\n",
      "        True,  True,  True,  True,  True,  True,  True,  True,  True,\n",
      "        True,  True,  True,  True,  True,  True,  True,  True,  True,\n",
      "        True])\n",
      "Coordinates:\n",
      "    spatial_ref  int64 0\n",
      "  * y            (y) float64 50.99 50.99 50.99 50.98 ... 50.7 50.7 50.7 50.7\n"
     ]
    }
   ],
   "source": [
    "lon_range = (ds['x'] >= 3.9) & (ds['x'] <= 4.6)\n",
    "lat_range = (ds['y'] >= 50.4) & (ds['y'] <= 51.1)\n",
    "print(lon_range, lat_range)"
   ]
  },
  {
   "cell_type": "code",
   "execution_count": 30,
   "id": "b50283f4-5bce-4b46-aff6-4d5630d4ce5d",
   "metadata": {},
   "outputs": [
    {
     "name": "stdout",
     "output_type": "stream",
     "text": [
      "<xarray.DataArray 't2m' (time: 744, latitude: 3, longitude: 3)>\n",
      "[6696 values with dtype=float32]\n",
      "Coordinates:\n",
      "  * longitude  (longitude) float32 4.0 4.25 4.5\n",
      "  * latitude   (latitude) float32 51.0 50.75 50.5\n",
      "  * time       (time) datetime64[ns] 2015-07-01 ... 2015-07-31T23:00:00\n",
      "Attributes:\n",
      "    units:      K\n",
      "    long_name:  2 metre temperature\n"
     ]
    }
   ],
   "source": [
    "# Load the dataset\n",
    "ds2 = xr.open_dataset('/vscmnt/brussel_pixiu_data/_data_brussel/vo/000/bvo00029/UrbClim_Emulator/Features/Meteo/ERA/ERA5_2015_07.nc')\n",
    "\n",
    "# Define the latitude and longitude range\n",
    "lon_min, lon_max = 4.0, 4.5\n",
    "lat_min, lat_max = 50.5, 51.0\n",
    "\n",
    "# Select the variable and slice the region based on lat/lon ranges\n",
    "var_region = ds2['t2m'].sel(longitude=slice(lon_min, lon_max), latitude=slice(lat_max, lat_min))\n",
    "\n",
    "# Print the resulting DataArray\n",
    "print(var_region)\n"
   ]
  },
  {
   "cell_type": "code",
   "execution_count": 31,
   "id": "651d4a25-88c3-45ce-a7f5-b5d36ff2d2a2",
   "metadata": {},
   "outputs": [
    {
     "name": "stdout",
     "output_type": "stream",
     "text": [
      "<xarray.Dataset>\n",
      "Dimensions:    (x: 301, y: 301)\n",
      "Coordinates:\n",
      "  * x          (x) float32 3.91e+06 3.91e+06 3.91e+06 ... 3.94e+06 3.94e+06\n",
      "  * y          (y) float32 3.082e+06 3.082e+06 3.082e+06 ... 3.111e+06 3.112e+06\n",
      "    latitude   (y, x) float32 ...\n",
      "    longitude  (y, x) float32 ...\n",
      "    time       datetime64[ns] 2015-07-01\n",
      "Data variables:\n",
      "    tas        (y, x) float32 ...\n",
      "Attributes:\n",
      "    conventions:    CF-1.6\n",
      "    title:          Urban climate modelled with UrbClim\n",
      "    references:     doi.org/10.1016/j.uclim.2015.01.001 \n",
      "    source:         UrbClim simulations\n",
      "    institution:    VITO (www.vito.be)\n",
      "    contact:        bd_rma@vito.be\n",
      "    project:        Copernicus Climate Change Service (C3S) Sectoral Informat...\n",
      "    creation_date:  Sun May 19 06:30:54 2019\n",
      "    comment:        Simulation of a city by UrbClim model\n",
      "Coordinates:\n",
      "  * y          (y) float32 3.082e+06 3.082e+06 3.082e+06 ... 3.111e+06 3.112e+06\n",
      "  * x          (x) float32 3.91e+06 3.91e+06 3.91e+06 ... 3.94e+06 3.94e+06\n",
      "    latitude   (y, x) float32 ...\n",
      "    longitude  (y, x) float32 ...\n",
      "    time       datetime64[ns] 2015-07-01\n"
     ]
    }
   ],
   "source": [
    "import xarray as xr\n",
    "\n",
    "# Define the transform function using xarray\n",
    "def transform(urbclim_cor):\n",
    "    # Convert temperature from Kelvin to Celsius directly in the DataArray\n",
    "    urbclim_cor['tas'] = urbclim_cor['tas'] - 273.15\n",
    "\n",
    "    # Ensure time is in datetime format\n",
    "    urbclim_cor['time'] = xr.decode_cf(urbclim_cor)['time']\n",
    "\n",
    "    return urbclim_cor\n",
    "\n",
    "# Open the dataset\n",
    "urbclim_cor = xr.open_dataset('/vscmnt/brussel_pixiu_data/_data_brussel/vo/000/bvo00029/UrbClim_Emulator/Urbclim_data/Urbclim_non_projected/tas_Brussels_UrbClim_2015_07_v1.0.nc')\n",
    "\n",
    "# Select a specific time step\n",
    "urbclim_cor = urbclim_cor.sel(time=\"2015-07-01T00:00:00\")\n",
    "\n",
    "print(urbclim_cor)\n",
    "# Apply the transformation\n",
    "urbclim_cor_tas = transform(urbclim_cor)\n",
    "\n",
    "# Extract and print the coordinates\n",
    "urbclim_coor = urbclim_cor_tas[['y', 'x']].coords\n",
    "print(urbclim_coor)\n"
   ]
  },
  {
   "cell_type": "code",
   "execution_count": 37,
   "id": "f982b5bc-735c-4a91-a74c-46880149d053",
   "metadata": {},
   "outputs": [
    {
     "name": "stdout",
     "output_type": "stream",
     "text": [
      "<xarray.Dataset>\n",
      "Dimensions:      (lat: 301, lon: 301)\n",
      "Coordinates:\n",
      "    latitude     (lat, lon) float32 ...\n",
      "    longitude    (lat, lon) float32 ...\n",
      "    time         datetime64[ns] 2015-07-01\n",
      "  * lat          (lat) float32 50.7 50.7 50.7 50.7 ... 50.96 50.97 50.97 50.97\n",
      "  * lon          (lon) float32 4.177 4.178 4.18 4.181 ... 4.596 4.598 4.599 4.6\n",
      "    spatial_ref  int64 0\n",
      "Data variables:\n",
      "    z            (lat, lon) float32 642.8 642.8 642.8 ... 137.3 137.3 137.3\n",
      "Attributes:\n",
      "    conventions:    CF-1.6\n",
      "    title:          Urban climate modelled with UrbClim\n",
      "    references:     doi.org/10.1016/j.uclim.2015.01.001 \n",
      "    source:         UrbClim simulations\n",
      "    institution:    VITO (www.vito.be)\n",
      "    contact:        bd_rma@vito.be\n",
      "    project:        Copernicus Climate Change Service (C3S) Sectoral Informat...\n",
      "    creation_date:  Sun May 19 06:30:54 2019\n",
      "    comment:        Simulation of a city by UrbClim model\n"
     ]
    }
   ],
   "source": [
    "import xesmf as xe\n",
    "\n",
    "def interpolate(source_ds, target_ds, feature_name):\n",
    "    \"\"\"\n",
    "    Interpolate `feature_name` from the source dataset to the target dataset using xESMF.\n",
    "    \"\"\"\n",
    "    # 1. Rename dimensions and coordinates to match xESMF expectations\n",
    "    source_ds = source_ds.rename({'x': 'lon', 'y': 'lat'})\n",
    "    target_ds = target_ds.rename({'x': 'lon', 'y': 'lat'})\n",
    "\n",
    "    # 2. Flatten latitude and longitude coordinates in the target dataset\n",
    "    target_ds = target_ds.assign_coords(\n",
    "        lon=target_ds['longitude'].isel(lat=0),\n",
    "        lat=target_ds['latitude'].isel(lon=0),\n",
    "    )\n",
    "\n",
    "    # 3. Create an xESMF regridder\n",
    "    regridder = xe.Regridder(source_ds, target_ds, method=\"nearest_s2d\", reuse_weights=False)\n",
    "\n",
    "    # 4. Apply the regridder to interpolate the feature\n",
    "    interpolated_feature = regridder(source_ds[feature_name])\n",
    "\n",
    "    # 5. Add the interpolated feature to the target dataset\n",
    "    target_ds[feature_name] = interpolated_feature\n",
    "\n",
    "    return target_ds\n",
    "\n",
    "# Convert `urbclim_coor` to a full Dataset\n",
    "#urbclim_coor = urbclim_coor.to_dataset()\n",
    "\n",
    "# Run the interpolation\n",
    "geo_df_new_cor = interpolate(geo_df, urbclim_coor, 'z')\n",
    "print(geo_df_new_cor)\n"
   ]
  },
  {
   "cell_type": "code",
   "execution_count": 38,
   "id": "8b6b1fae-29ad-4735-a63b-1991d6322d07",
   "metadata": {},
   "outputs": [
    {
     "name": "stdout",
     "output_type": "stream",
     "text": [
      "<xarray.Dataset>\n",
      "Dimensions:      (y: 253, x: 399)\n",
      "Coordinates:\n",
      "    spatial_ref  int64 0\n",
      "  * y            (y) float64 50.99 50.99 50.99 50.98 ... 50.7 50.7 50.7 50.7\n",
      "  * x            (x) float64 4.143 4.144 4.145 4.146 ... 4.597 4.598 4.599 4.6\n",
      "Data variables:\n",
      "    z            (y, x) float32 ...\n",
      "Coordinates:\n",
      "    spatial_ref  int64 0\n",
      "  * y            (y) float64 50.99 50.99 50.99 50.98 ... 50.7 50.7 50.7 50.7\n",
      "  * x            (x) float64 4.143 4.144 4.145 4.146 ... 4.597 4.598 4.599 4.6\n",
      "<xarray.Dataset>\n",
      "Dimensions:    (y: 301, x: 301)\n",
      "Coordinates:\n",
      "  * y          (y) float32 3.082e+06 3.082e+06 3.082e+06 ... 3.111e+06 3.112e+06\n",
      "  * x          (x) float32 3.91e+06 3.91e+06 3.91e+06 ... 3.94e+06 3.94e+06\n",
      "    latitude   (y, x) float32 ...\n",
      "    longitude  (y, x) float32 ...\n",
      "    time       datetime64[ns] 2015-07-01\n",
      "Data variables:\n",
      "    *empty*\n",
      "Attributes:\n",
      "    conventions:    CF-1.6\n",
      "    title:          Urban climate modelled with UrbClim\n",
      "    references:     doi.org/10.1016/j.uclim.2015.01.001 \n",
      "    source:         UrbClim simulations\n",
      "    institution:    VITO (www.vito.be)\n",
      "    contact:        bd_rma@vito.be\n",
      "    project:        Copernicus Climate Change Service (C3S) Sectoral Informat...\n",
      "    creation_date:  Sun May 19 06:30:54 2019\n",
      "    comment:        Simulation of a city by UrbClim model\n"
     ]
    }
   ],
   "source": [
    "print(geo_df)\n",
    "print(geo_df.coords)\n",
    "print(urbclim_coor)\n",
    "\n"
   ]
  },
  {
   "cell_type": "code",
   "execution_count": 39,
   "id": "40af549f-2d2d-4661-a0fd-654368ba57d8",
   "metadata": {},
   "outputs": [
    {
     "name": "stdout",
     "output_type": "stream",
     "text": [
      "Frozen({'y': 301, 'x': 301})\n",
      "Frozen({'lat': 301, 'lon': 301})\n",
      "Coordinates:\n",
      "    latitude     (lat, lon) float32 ...\n",
      "    longitude    (lat, lon) float32 ...\n",
      "    time         datetime64[ns] 2015-07-01\n",
      "  * lat          (lat) float32 50.7 50.7 50.7 50.7 ... 50.96 50.97 50.97 50.97\n",
      "  * lon          (lon) float32 4.177 4.178 4.18 4.181 ... 4.596 4.598 4.599 4.6\n",
      "    spatial_ref  int64 0\n"
     ]
    }
   ],
   "source": [
    "# Check the dimensions of the target dataset\n",
    "print(urbclim_coor.dims)\n",
    "\n",
    "# Check the dimensions of the interpolated dataset\n",
    "print(geo_df_new_cor.dims)\n",
    "\n",
    "# Check the coordinates of the interpolated dataset\n",
    "print(geo_df_new_cor.coords)\n"
   ]
  },
  {
   "cell_type": "code",
   "execution_count": 45,
   "id": "da795a24-3f5e-43b6-8ea5-0ba1801bd494",
   "metadata": {},
   "outputs": [
    {
     "name": "stdout",
     "output_type": "stream",
     "text": [
      "Coordinates:\n",
      "    spatial_ref  int64 0\n",
      "  * y            (y) float64 50.99 50.99 50.99 50.98 ... 50.7 50.7 50.7 50.7\n",
      "  * x            (x) float64 4.143 4.144 4.145 4.146 ... 4.597 4.598 4.599 4.6\n",
      "Frozen({'y': 253, 'x': 399})\n"
     ]
    }
   ],
   "source": [
    "print(geo_df.coords)\n",
    "print(geo_df.dims)"
   ]
  },
  {
   "cell_type": "code",
   "execution_count": 46,
   "id": "871a94fa-2756-463b-a440-bfaaac2a382e",
   "metadata": {},
   "outputs": [
    {
     "name": "stdout",
     "output_type": "stream",
     "text": [
      "[[50.698475 50.698547 50.698616 ... 50.718998 50.719063 50.71913 ]\n",
      " [50.69937  50.69944  50.699512 ... 50.719894 50.71996  50.720024]\n",
      " [50.700268 50.700336 50.70041  ... 50.72079  50.720856 50.72092 ]\n",
      " ...\n",
      " [50.965378 50.965446 50.96552  ... 50.986034 50.9861   50.986168]\n",
      " [50.96627  50.966343 50.966415 ... 50.98693  50.986996 50.987064]\n",
      " [50.967167 50.96724  50.96731  ... 50.987827 50.987892 50.98796 ]]\n",
      "[[4.1767464 4.1781583 4.1795697 ... 4.597578  4.598991  4.6004033]\n",
      " [4.176635  4.178046  4.179458  ... 4.597474  4.598887  4.6003   ]\n",
      " [4.176523  4.1779346 4.1793466 ... 4.5973706 4.5987835 4.6001964]\n",
      " ...\n",
      " [4.143234  4.1446533 4.146073  ... 4.5664635 4.5678844 4.569305 ]\n",
      " [4.1431203 4.14454   4.14596   ... 4.566358  4.567779  4.5692   ]\n",
      " [4.1430073 4.144427  4.1458464 ... 4.566253  4.567674  4.5690947]]\n"
     ]
    }
   ],
   "source": [
    "# Print latitude values\n",
    "print(urbclim_coor['latitude'].values)\n",
    "\n",
    "# Print longitude values\n",
    "print(urbclim_coor['longitude'].values)\n"
   ]
  },
  {
   "cell_type": "code",
   "execution_count": 41,
   "id": "9d6681a4-7bf7-4bd2-b3f2-fd418748f407",
   "metadata": {},
   "outputs": [
    {
     "name": "stdout",
     "output_type": "stream",
     "text": [
      "253\n",
      "301\n"
     ]
    }
   ],
   "source": [
    "# Check the original values in geo_df\n",
    "print(len(geo_df['z'].values))\n",
    "\n",
    "# Check the interpolated values in geo_df_new_cor\n",
    "print(len(geo_df_new_cor['z'].values))\n"
   ]
  },
  {
   "cell_type": "code",
   "execution_count": 44,
   "id": "dd1a33b2-1517-4fcb-aea8-9181861d18c9",
   "metadata": {},
   "outputs": [
    {
     "data": {
      "image/png": "[encoded data removed]",
      "text/plain": [
       "<Figure size 1000x500 with 2 Axes>"
      ]
     },
     "metadata": {},
     "output_type": "display_data"
    },
    {
     "data": {
      "image/png": "[encoded data removed]",
      "text/plain": [
       "<Figure size 1000x500 with 2 Axes>"
      ]
     },
     "metadata": {},
     "output_type": "display_data"
    }
   ],
   "source": [
    "import matplotlib.pyplot as plt\n",
    "\n",
    "# Plot the original data using pcolormesh with black lines\n",
    "plt.figure(figsize=(10, 5))\n",
    "plt.pcolormesh(geo_df['x'], geo_df['y'], geo_df['z'], cmap='viridis', edgecolors='black', linewidth=0.5)\n",
    "plt.title('Original Data with Black Grid Lines')\n",
    "plt.colorbar()\n",
    "plt.show()\n",
    "\n",
    "# Plot the interpolated data using pcolormesh with black lines\n",
    "plt.figure(figsize=(10, 5))\n",
    "plt.pcolormesh(geo_df_new_cor['lon'], geo_df_new_cor['lat'], geo_df_new_cor['z'], cmap='viridis', edgecolors='black', linewidth=0.5)\n",
    "plt.title('Interpolated Data with Black Grid Lines')\n",
    "plt.colorbar()\n",
    "plt.show()\n"
   ]
  },
  {
   "cell_type": "code",
   "execution_count": null,
   "id": "7d7795ef-2725-49fc-a4fd-d96799251ee5",
   "metadata": {},
   "outputs": [],
   "source": []
  }
 ],
 "metadata": {
  "kernelspec": {
   "display_name": "Python 3 (ipykernel)",
   "language": "python",
   "name": "python3"
  },
  "language_info": {
   "codemirror_mode": {
    "name": "ipython",
    "version": 3
   },
   "file_extension": ".py",
   "mimetype": "text/x-python",
   "name": "python",
   "nbconvert_exporter": "python",
   "pygments_lexer": "ipython3",
   "version": "3.11.10"
  }
 },
 "nbformat": 4,
 "nbformat_minor": 5
}
